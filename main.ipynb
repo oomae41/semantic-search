{
 "cells": [
  {
   "cell_type": "code",
   "execution_count": 25,
   "metadata": {},
   "outputs": [],
   "source": [
    "all_sentences = [\n",
    "    \"ダーウィンの進化論は嘘です\",\n",
    "    \"バナナはおやつに入ります\",\n",
    "    \"地球は平面です\",\n",
    "    \"日本では応用数学科はまだまだ少ない方です\",\n",
    "    \"数学と数理科学の違いはなんですか\",\n",
    "    \"散歩をするとバナナがおやつに入らないかもしれないことに気づきました\",\n",
    "    \"地球の半径を数理的に求めることができます\",\n",
    "    \"私はバナナが好きな数学者です\",\n",
    "    \"数学とバナナは同じです\",\n",
    "    \"残念ながら、地球とバナナとゴリラは同じではありません\",   #10\n",
    "    \"ダーウィンはバナナをおやつと考えました\",\n",
    "    \"これ以上無意味な文章を作ることをやめませんか\",\n",
    "    \"数理の世界は長い年月を経て進歩してきましたが、人間は長い年月を経てゴリラに近づきました\",\n",
    "    \"ダーウィンは進化論の提唱者ですが、ダテミキオはカロリー0理論の提唱者です\",\n",
    "    \"その理論を応用することで、バナナを用いてブラックホールを生成する方法を数学的に導くことができます\",\n",
    "    \"ピザはその高さを0に近づけることで体積が0に近づくためカロリーは0\",\n",
    "    \"ダーウィンはゴリラの進化元です\",\n",
    "    \"バナナのカロリーは1本86キロカロリーです\",\n",
    "    \"どうして地球にはピザが自生していないのですか\",\n",
    "    \"ここまでだいたい嘘\"\n",
    "]"
   ]
  },
  {
   "cell_type": "code",
   "execution_count": 26,
   "metadata": {},
   "outputs": [
    {
     "data": {
      "text/plain": [
       "(20, 768)"
      ]
     },
     "execution_count": 26,
     "metadata": {},
     "output_type": "execute_result"
    }
   ],
   "source": [
    "from sentence_transformers import SentenceTransformer\n",
    "\n",
    "# 日本語に強そうなモデルを指定\n",
    "model = SentenceTransformer('sentence-transformers/paraphrase-multilingual-mpnet-base-v2')\n",
    "\n",
    "# 20行のセンテンスを768次元のベクトルに変換（埋め込み）\n",
    "all_embeddings = model.encode(all_sentences)\n",
    "all_embeddings.shape"
   ]
  },
  {
   "cell_type": "code",
   "execution_count": 27,
   "metadata": {},
   "outputs": [
    {
     "data": {
      "text/plain": [
       "['ダーウィン', 'の', '進化', '論', 'は', '嘘', 'です']"
      ]
     },
     "execution_count": 27,
     "metadata": {},
     "output_type": "execute_result"
    }
   ],
   "source": [
    "from transformers import AutoTokenizer\n",
    "\n",
    "# 指定したtokenizerを用いる\n",
    "tokenizer = AutoTokenizer.from_pretrained('cl-tohoku/bert-base-japanese')\n",
    "\n",
    "all_tokens = [tokenizer.tokenize(sentence.lower()) for sentence in all_sentences]\n",
    "all_tokens[0]"
   ]
  },
  {
   "cell_type": "code",
   "execution_count": 28,
   "metadata": {},
   "outputs": [],
   "source": [
    "# Pineconeの初期化\n",
    "from pinecone import Pinecone, PodSpec\n",
    "pc = Pinecone(api_key='1a0e3dd8-12dd-42cc-92ef-16e20a38cb4b')"
   ]
  },
  {
   "cell_type": "code",
   "execution_count": 29,
   "metadata": {},
   "outputs": [],
   "source": [
    "# インデックスの作成\n",
    "# all_tokensを格納するDBの作成\n",
    "pc.create_index(\n",
    "    name=\"semantic-search-in-japanese\", \n",
    "    \n",
    "    dimension=all_embeddings.shape[1], \n",
    "    metric=\"cosine\",\n",
    "    spec=PodSpec(\n",
    "        environment='gcp-starter', \n",
    "        pod_type='starter'\n",
    "    )\n",
    ")"
   ]
  },
  {
   "cell_type": "code",
   "execution_count": 30,
   "metadata": {},
   "outputs": [],
   "source": [
    "# インデックスに接続\n",
    "index = pc.Index(name=\"semantic-search-in-japanese\")"
   ]
  },
  {
   "cell_type": "code",
   "execution_count": 31,
   "metadata": {},
   "outputs": [
    {
     "data": {
      "text/plain": [
       "{'upserted_count': 20}"
      ]
     },
     "execution_count": 31,
     "metadata": {},
     "output_type": "execute_result"
    }
   ],
   "source": [
    "# all_embeddingsとall_tokensをInsertする\n",
    "\n",
    "# all_embeddings...単語のベクトル埋め込み（数値）\n",
    "# all_tokens...単語のベクトル\n",
    "upserts = []\n",
    "for i, (embedding, tokens) in enumerate(zip(all_embeddings, all_tokens)):\n",
    "    upserts.append((str(i), embedding.tolist(), {'tokens': tokens}))\n",
    "\n",
    "# 20行の文章が20個のベクトルとして格納される\n",
    "index.upsert(vectors=upserts)"
   ]
  },
  {
   "cell_type": "code",
   "execution_count": 33,
   "metadata": {},
   "outputs": [
    {
     "data": {
      "text/plain": [
       "{'matches': [{'id': '19',\n",
       "              'metadata': {'tokens': ['ここ', 'まで', 'だい', '##たい', '嘘']},\n",
       "              'score': 0.527227104,\n",
       "              'values': []},\n",
       "             {'id': '1',\n",
       "              'metadata': {'tokens': ['バナナ', 'は', 'お', 'やつ', 'に', '入り', 'ます']},\n",
       "              'score': 0.415789366,\n",
       "              'values': []},\n",
       "             {'id': '11',\n",
       "              'metadata': {'tokens': ['これ',\n",
       "                                      '以上',\n",
       "                                      '無意',\n",
       "                                      '##味',\n",
       "                                      'な',\n",
       "                                      '文章',\n",
       "                                      'を',\n",
       "                                      '作る',\n",
       "                                      'こと',\n",
       "                                      'を',\n",
       "                                      'やめ',\n",
       "                                      'ませ',\n",
       "                                      'ん',\n",
       "                                      'か']},\n",
       "              'score': 0.37109223,\n",
       "              'values': []},\n",
       "             {'id': '9',\n",
       "              'metadata': {'tokens': ['残念',\n",
       "                                      'ながら',\n",
       "                                      '、',\n",
       "                                      '地球',\n",
       "                                      'と',\n",
       "                                      'バナナ',\n",
       "                                      'と',\n",
       "                                      'ゴリ',\n",
       "                                      '##ラ',\n",
       "                                      'は',\n",
       "                                      '同じ',\n",
       "                                      'で',\n",
       "                                      'は',\n",
       "                                      'あり',\n",
       "                                      'ませ',\n",
       "                                      'ん']},\n",
       "              'score': 0.353615254,\n",
       "              'values': []},\n",
       "             {'id': '7',\n",
       "              'metadata': {'tokens': ['私',\n",
       "                                      'は',\n",
       "                                      'バナナ',\n",
       "                                      'が',\n",
       "                                      '好き',\n",
       "                                      'な',\n",
       "                                      '数学',\n",
       "                                      '者',\n",
       "                                      'です']},\n",
       "              'score': 0.349844754,\n",
       "              'values': []}],\n",
       " 'namespace': '',\n",
       " 'usage': {'read_units': 6}}"
      ]
     },
     "execution_count": 33,
     "metadata": {},
     "output_type": "execute_result"
    }
   ],
   "source": [
    "# セマンティック検索\n",
    "query = \"ゴリラ\"\n",
    "xq = model.encode([query]).tolist()\n",
    "\n",
    "result = index.query(vector=xq, top_k=5, includeMetadata=True)\n",
    "result"
   ]
  },
  {
   "cell_type": "code",
   "execution_count": 49,
   "metadata": {},
   "outputs": [
    {
     "data": {
      "text/plain": [
       "['ダーウィン', 'の', '進化', '論', 'は', '嘘', 'です']"
      ]
     },
     "execution_count": 49,
     "metadata": {},
     "output_type": "execute_result"
    }
   ],
   "source": [
    "# 検索結果が怪しいので別のtokenizerを使う\n",
    "from transformers import BertJapaneseTokenizer\n",
    "\n",
    "# 指定したtokenizerを用いる\n",
    "tokenizer_cl_tohoku = BertJapaneseTokenizer.from_pretrained('cl-tohoku/bert-base-japanese')\n",
    "\n",
    "all_tokens_cl_tohoku = [tokenizer_cl_tohoku.tokenize(sentence) for sentence in all_sentences]\n",
    "all_tokens_cl_tohoku[0]"
   ]
  },
  {
   "cell_type": "code",
   "execution_count": 36,
   "metadata": {},
   "outputs": [
    {
     "data": {
      "text/plain": [
       "{}"
      ]
     },
     "execution_count": 36,
     "metadata": {},
     "output_type": "execute_result"
    }
   ],
   "source": [
    "# 以前のベクトルを削除し、新しいベクトルを格納\n",
    "index.delete(delete_all=True)"
   ]
  },
  {
   "cell_type": "code",
   "execution_count": 50,
   "metadata": {},
   "outputs": [
    {
     "data": {
      "text/plain": [
       "{'upserted_count': 20}"
      ]
     },
     "execution_count": 50,
     "metadata": {},
     "output_type": "execute_result"
    }
   ],
   "source": [
    "upserts = []\n",
    "for i, (embedding, tokens) in enumerate(zip(all_embeddings, all_tokens_cl_tohoku)):\n",
    "    upserts.append((str(i), embedding.tolist(), {'tokens': tokens}))\n",
    "\n",
    "index.upsert(vectors=upserts)"
   ]
  },
  {
   "cell_type": "code",
   "execution_count": 51,
   "metadata": {},
   "outputs": [
    {
     "data": {
      "text/plain": [
       "{'matches': [{'id': '1',\n",
       "              'metadata': {'tokens': ['バナナ', 'は', 'お', 'やつ', 'に', '入り', 'ます']},\n",
       "              'score': 0.804515719,\n",
       "              'values': []},\n",
       "             {'id': '10',\n",
       "              'metadata': {'tokens': ['ダーウィン',\n",
       "                                      'は',\n",
       "                                      'バナナ',\n",
       "                                      'を',\n",
       "                                      'お',\n",
       "                                      'やつ',\n",
       "                                      'と',\n",
       "                                      '考え',\n",
       "                                      'まし',\n",
       "                                      'た']},\n",
       "              'score': 0.73956424,\n",
       "              'values': []},\n",
       "             {'id': '5',\n",
       "              'metadata': {'tokens': ['散歩',\n",
       "                                      'を',\n",
       "                                      'する',\n",
       "                                      'と',\n",
       "                                      'バナナ',\n",
       "                                      'が',\n",
       "                                      'お',\n",
       "                                      'やつ',\n",
       "                                      'に',\n",
       "                                      '入ら',\n",
       "                                      'ない',\n",
       "                                      'かも',\n",
       "                                      'しれ',\n",
       "                                      'ない',\n",
       "                                      'こと',\n",
       "                                      'に',\n",
       "                                      '気づき',\n",
       "                                      'まし',\n",
       "                                      'た']},\n",
       "              'score': 0.721879721,\n",
       "              'values': []},\n",
       "             {'id': '9',\n",
       "              'metadata': {'tokens': ['残念',\n",
       "                                      'ながら',\n",
       "                                      '、',\n",
       "                                      '地球',\n",
       "                                      'と',\n",
       "                                      'バナナ',\n",
       "                                      'と',\n",
       "                                      'ゴリ',\n",
       "                                      '##ラ',\n",
       "                                      'は',\n",
       "                                      '同じ',\n",
       "                                      'で',\n",
       "                                      'は',\n",
       "                                      'あり',\n",
       "                                      'ませ',\n",
       "                                      'ん']},\n",
       "              'score': 0.543814182,\n",
       "              'values': []},\n",
       "             {'id': '17',\n",
       "              'metadata': {'tokens': ['バナナ',\n",
       "                                      'の',\n",
       "                                      'カロリー',\n",
       "                                      'は',\n",
       "                                      '1',\n",
       "                                      '本',\n",
       "                                      '86',\n",
       "                                      'キロ',\n",
       "                                      '##カロ',\n",
       "                                      '##リー',\n",
       "                                      'です']},\n",
       "              'score': 0.501137257,\n",
       "              'values': []}],\n",
       " 'namespace': '',\n",
       " 'usage': {'read_units': 6}}"
      ]
     },
     "execution_count": 51,
     "metadata": {},
     "output_type": "execute_result"
    }
   ],
   "source": [
    "# セマンティック検索\n",
    "query = \"ゴリラはバナナを食べましたか？\"\n",
    "xq = model.encode([query]).tolist()\n",
    "\n",
    "result = index.query(vector=xq, top_k=5, includeMetadata=True)\n",
    "result"
   ]
  },
  {
   "cell_type": "code",
   "execution_count": 48,
   "metadata": {},
   "outputs": [
    {
     "data": {
      "text/plain": [
       "{'matches': [{'id': '19',\n",
       "              'metadata': {'tokens': ['ここ', 'まで', 'だい', '##たい', '嘘']},\n",
       "              'score': 0.527227104,\n",
       "              'values': []},\n",
       "             {'id': '1',\n",
       "              'metadata': {'tokens': ['バナナ', 'は', 'お', 'やつ', 'に', '入り', 'ます']},\n",
       "              'score': 0.415789366,\n",
       "              'values': []},\n",
       "             {'id': '11',\n",
       "              'metadata': {'tokens': ['これ',\n",
       "                                      '以上',\n",
       "                                      '無意',\n",
       "                                      '##味',\n",
       "                                      'な',\n",
       "                                      '文章',\n",
       "                                      'を',\n",
       "                                      '作る',\n",
       "                                      'こと',\n",
       "                                      'を',\n",
       "                                      'やめ',\n",
       "                                      'ませ',\n",
       "                                      'ん',\n",
       "                                      'か']},\n",
       "              'score': 0.37109223,\n",
       "              'values': []},\n",
       "             {'id': '9',\n",
       "              'metadata': {'tokens': ['残念',\n",
       "                                      'ながら',\n",
       "                                      '、',\n",
       "                                      '地球',\n",
       "                                      'と',\n",
       "                                      'バナナ',\n",
       "                                      'と',\n",
       "                                      'ゴリ',\n",
       "                                      '##ラ',\n",
       "                                      'は',\n",
       "                                      '同じ',\n",
       "                                      'で',\n",
       "                                      'は',\n",
       "                                      'あり',\n",
       "                                      'ませ',\n",
       "                                      'ん']},\n",
       "              'score': 0.353615254,\n",
       "              'values': []},\n",
       "             {'id': '7',\n",
       "              'metadata': {'tokens': ['私',\n",
       "                                      'は',\n",
       "                                      'バナナ',\n",
       "                                      'が',\n",
       "                                      '好き',\n",
       "                                      'な',\n",
       "                                      '数学',\n",
       "                                      '者',\n",
       "                                      'です']},\n",
       "              'score': 0.349844754,\n",
       "              'values': []}],\n",
       " 'namespace': '',\n",
       " 'usage': {'read_units': 6}}"
      ]
     },
     "execution_count": 48,
     "metadata": {},
     "output_type": "execute_result"
    }
   ],
   "source": [
    "# セマンティック検索\n",
    "query = \"ゴリラ\"\n",
    "xq = model.encode([query]).tolist()\n",
    "\n",
    "result = index.query(vector=xq, top_k=5, includeMetadata=True)\n",
    "result"
   ]
  },
  {
   "cell_type": "code",
   "execution_count": 53,
   "metadata": {},
   "outputs": [],
   "source": [
    "pc.delete_index(\"semantic-search-in-japanese\")"
   ]
  },
  {
   "cell_type": "code",
   "execution_count": null,
   "metadata": {},
   "outputs": [],
   "source": []
  }
 ],
 "metadata": {
  "kernelspec": {
   "display_name": "vectordb",
   "language": "python",
   "name": "python3"
  },
  "language_info": {
   "codemirror_mode": {
    "name": "ipython",
    "version": 3
   },
   "file_extension": ".py",
   "mimetype": "text/x-python",
   "name": "python",
   "nbconvert_exporter": "python",
   "pygments_lexer": "ipython3",
   "version": "3.10.0"
  }
 },
 "nbformat": 4,
 "nbformat_minor": 2
}
