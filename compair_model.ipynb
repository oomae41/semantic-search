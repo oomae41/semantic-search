{
 "cells": [
  {
   "cell_type": "code",
   "execution_count": 2,
   "metadata": {},
   "outputs": [],
   "source": [
    "all_sentences = [\n",
    "    \"ダーウィンの進化論は嘘です\",\n",
    "    \"バナナはおやつに入ります\",\n",
    "    \"地球は平面です\",\n",
    "    \"日本では応用数学科はまだまだ少ない方です\",\n",
    "    \"数学と数理科学の違いはなんですか\",\n",
    "    \"散歩をするとバナナがおやつに入らないかもしれないことに気づきました\",\n",
    "    \"地球の半径を数理的に求めることができます\",\n",
    "    \"私はバナナが好きな数学者です\",\n",
    "    \"数学とバナナは同じです\",\n",
    "    \"残念ながら、地球とバナナとゴリラは同じではありません\",   #10\n",
    "    \"ダーウィンはバナナをおやつと考えました\",\n",
    "    \"これ以上無意味な文章を作ることをやめませんか\",\n",
    "    \"数理の世界は長い年月を経て進歩してきましたが、人間は長い年月を経てゴリラに近づきました\",\n",
    "    \"ダーウィンは進化論の提唱者ですが、ダテミキオはカロリー0理論の提唱者です\",\n",
    "    \"その理論を応用することで、バナナを用いてブラックホールを生成する方法を数学的に導くことができます\",\n",
    "    \"ピザはその高さを0に近づけることで体積が0に近づくためカロリーは0\",\n",
    "    \"ダーウィンはゴリラの進化元です\",\n",
    "    \"バナナのカロリーは1本86キロカロリーです\",\n",
    "    \"どうして地球にはピザが自生していないのですか\",\n",
    "    \"ここまでだいたい嘘\"\n",
    "]"
   ]
  },
  {
   "cell_type": "code",
   "execution_count": 4,
   "metadata": {},
   "outputs": [],
   "source": [
    "# CUDAの使用\n",
    "import torch\n",
    "device = 'cuda' if torch.cuda.is_available() else 'cpu'"
   ]
  },
  {
   "cell_type": "code",
   "execution_count": 6,
   "metadata": {},
   "outputs": [
    {
     "name": "stderr",
     "output_type": "stream",
     "text": [
      "/opt/homebrew/Caskroom/miniforge/base/envs/vectordb/lib/python3.10/site-packages/torch/_utils.py:831: UserWarning: TypedStorage is deprecated. It will be removed in the future and UntypedStorage will be the only storage class. This should only matter to you if you are using storages directly.  To access UntypedStorage directly, use tensor.untyped_storage() instead of tensor.storage()\n",
      "  return self.fget.__get__(instance, owner)()\n"
     ]
    },
    {
     "data": {
      "text/plain": [
       "(20, 768)"
      ]
     },
     "execution_count": 6,
     "metadata": {},
     "output_type": "execute_result"
    }
   ],
   "source": [
    "from sentence_transformers import SentenceTransformer\n",
    "\n",
    "# 日本語に強そうなモデルを指定\n",
    "model_waseda = SentenceTransformer('sentence-transformers/paraphrase-multilingual-mpnet-base-v2', device=device)\n",
    "\n",
    "# 20行のセンテンスを768次元のベクトルに変換（埋め込み）\n",
    "all_embeddings_waseda = model_waseda.encode(all_sentences)\n",
    "all_embeddings_waseda.shape"
   ]
  },
  {
   "cell_type": "code",
   "execution_count": null,
   "metadata": {},
   "outputs": [],
   "source": []
  }
 ],
 "metadata": {
  "kernelspec": {
   "display_name": "vectordb",
   "language": "python",
   "name": "python3"
  },
  "language_info": {
   "codemirror_mode": {
    "name": "ipython",
    "version": 3
   },
   "file_extension": ".py",
   "mimetype": "text/x-python",
   "name": "python",
   "nbconvert_exporter": "python",
   "pygments_lexer": "ipython3",
   "version": "3.10.0"
  }
 },
 "nbformat": 4,
 "nbformat_minor": 2
}
